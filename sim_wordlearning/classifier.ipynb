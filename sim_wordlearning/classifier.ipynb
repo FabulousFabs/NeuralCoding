{
 "cells": [
  {
   "cell_type": "code",
   "execution_count": 1,
   "id": "sustained-heavy",
   "metadata": {},
   "outputs": [],
   "source": [
    "import os, sys\n",
    "import numpy as np\n",
    "sys.path.append('./../')\n",
    "import snn"
   ]
  },
  {
   "cell_type": "code",
   "execution_count": 2,
   "id": "assisted-china",
   "metadata": {},
   "outputs": [],
   "source": [
    "# target\n",
    "t_rate = 'rate'\n",
    "t_phase = 'phase'\n",
    "\n",
    "# setup paths\n",
    "pwd = '/users/fabianschneider/desktop/university/master/BIC/project/sim_wordlearning/'\n",
    "bwd_rate = os.path.join(pwd, t_rate, 'behaviour')\n",
    "mwd_rate = os.path.join(pwd, t_rate, 'models')\n",
    "bwd_phase = os.path.join(pwd, t_phase, 'behaviour')\n",
    "mwd_phase = os.path.join(pwd, t_phase, 'models')\n",
    "\n",
    "# setup parameters\n",
    "EPOCHS = 5"
   ]
  },
  {
   "cell_type": "code",
   "execution_count": 3,
   "id": "interested-tennessee",
   "metadata": {},
   "outputs": [],
   "source": [
    "# setup functions\n",
    "def find_files(f, t, o = None):\n",
    "    '''\n",
    "    Grab all files of type t from f (if o != None, selects by beginning)\n",
    "    '''\n",
    "\n",
    "    af = os.listdir(f)\n",
    "    at = []\n",
    "    for f in af:\n",
    "        if f.endswith(t) and (o is None or f.startswith(o)):\n",
    "            at.append(f)\n",
    "    return at\n",
    "\n",
    "def run_classifier(t, pwd, bwd, mwd, EPOCHS):\n",
    "    # grab model to identify neurons\n",
    "    with snn.Network(build_from = os.path.join(mwd, '{:s}_clean_p0.npy'.format(t))) as net:\n",
    "        pop_ex = net.structure(n = 50)\n",
    "        pop_ro = net.structure(n = 60)\n",
    "        pop_fb = net.structure(n = 60)\n",
    "    neurons = net.neurons_in(pop_ro)\n",
    "    \n",
    "    # iterate over epochs\n",
    "    for EPOCH in np.arange(0, EPOCHS, 1):\n",
    "        # find epoch\n",
    "        this_epoch = find_files(bwd, '.npy', o = 'rate_clean_e{:d}'.format(EPOCH))\n",
    "\n",
    "        # setup counts\n",
    "        Y = np.zeros((60, len(this_epoch)))\n",
    "        N = np.zeros((60, len(this_epoch)))\n",
    "\n",
    "        # iterate over episodes to find spike counts per neuron per episode\n",
    "        for i, episode in zip(np.arange(0, len(this_epoch), 1), this_epoch):\n",
    "            # identify item\n",
    "            S, I, V = (int(episode.split('.')[0].split('_')[-3]), int(episode.split('.')[0].split('_')[-2]), int(episode.split('.')[0].split('_')[-1]))\n",
    "\n",
    "            # load behaviour\n",
    "            with open(os.path.join(bwd, episode), 'rb') as f:\n",
    "                M = np.load(f)\n",
    "                M = M.T # note: monitors are saved as time x neuron, so transpose\n",
    "\n",
    "            # count spikes\n",
    "            N[:, i] = np.sum(M[neurons,:], axis = 1)\n",
    "            Y[:, i] = I\n",
    "\n",
    "        # setup labels\n",
    "        labels = np.zeros((N.shape[0],1))\n",
    "\n",
    "        # find maximum responses and label neurons\n",
    "        max_indices = np.argmax(N, axis = 1)\n",
    "        max_full = np.unravel_index(max_indices, N.shape)\n",
    "        labels = Y[max_full]\n",
    "\n",
    "        # setup matrix for Expectation-Observation matching\n",
    "        T = np.zeros((len(this_epoch), 2)).astype(np.int)\n",
    "\n",
    "        for i, episode in zip(np.arange(0, len(this_epoch), 1), this_epoch):\n",
    "            # identify item\n",
    "            S, I, V = (int(episode.split('.')[0].split('_')[-3]), int(episode.split('.')[0].split('_')[-2]), int(episode.split('.')[0].split('_')[-1]))\n",
    "\n",
    "            # load behaviour\n",
    "            with open(os.path.join(bwd, episode), 'rb') as f:\n",
    "                M = np.load(f)\n",
    "                M = M.T # note: monitors are saved as time x neuron, so transpose\n",
    "\n",
    "            # label current expectation\n",
    "            T[i, 0] = int(I)\n",
    "\n",
    "            # label current observation\n",
    "            T[i, 1] = int(labels[np.argmax(np.sum(M[neurons,:], axis = 1))])\n",
    "\n",
    "        # get accuracy\n",
    "        A = np.mean((T[:,0] == T[:,1]).astype(np.int))\n",
    "        print('Epoch{:d}, accuracy = {:3.4f}'.format(EPOCH, A))"
   ]
  },
  {
   "cell_type": "code",
   "execution_count": 4,
   "id": "monetary-eclipse",
   "metadata": {},
   "outputs": [
    {
     "name": "stdout",
     "output_type": "stream",
     "text": [
      "Epoch0, accuracy = 0.024\n",
      "Epoch1, accuracy = 0.022\n",
      "Epoch2, accuracy = 0.024\n",
      "Epoch3, accuracy = 0.024\n",
      "Epoch4, accuracy = 0.021\n"
     ]
    }
   ],
   "source": [
    "run_classifier(t_rate, pwd, bwd_rate, mwd_rate, EPOCHS)"
   ]
  },
  {
   "cell_type": "code",
   "execution_count": 80,
   "id": "cooperative-height",
   "metadata": {},
   "outputs": [
    {
     "name": "stdout",
     "output_type": "stream",
     "text": [
      "Epoch0, accuracy = 0.024\n",
      "Epoch1, accuracy = 0.022\n",
      "Epoch2, accuracy = 0.024\n",
      "Epoch3, accuracy = 0.024\n",
      "Epoch4, accuracy = 0.021\n"
     ]
    }
   ],
   "source": [
    "run_classifier(t_phase, pwd, bwd_phase, mwd_phase, EPOCHS)"
   ]
  }
 ],
 "metadata": {
  "kernelspec": {
   "display_name": "Python 3",
   "language": "python",
   "name": "python3"
  },
  "language_info": {
   "codemirror_mode": {
    "name": "ipython",
    "version": 3
   },
   "file_extension": ".py",
   "mimetype": "text/x-python",
   "name": "python",
   "nbconvert_exporter": "python",
   "pygments_lexer": "ipython3",
   "version": "3.9.0"
  }
 },
 "nbformat": 4,
 "nbformat_minor": 5
}
